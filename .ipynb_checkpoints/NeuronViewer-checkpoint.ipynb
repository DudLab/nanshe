{
 "metadata": {
  "name": "",
  "signature": "sha256:7b8d51a77dc3383d1c1726395cd03e2c9be69193221c52154444c704fd9d5252"
 },
 "nbformat": 3,
 "nbformat_minor": 0,
 "worksheets": [
  {
   "cells": [
    {
     "cell_type": "code",
     "collapsed": false,
     "input": [
      "import neuron_viewer\n",
      "import matplotlib.pyplot as plt\n",
      "\n",
      "import os\n",
      "import h5py as h5"
     ],
     "language": "python",
     "metadata": {},
     "outputs": [],
     "prompt_number": 1
    },
    {
     "cell_type": "code",
     "collapsed": false,
     "input": [
      "hdf5_data_name = os.path.relpath(\"./data_test/data_invitro_susanne.h5\")\n",
      "\n",
      "hdf5_data = h5.File(hdf5_data_name, 'r')\n",
      "\n",
      "images = hdf5_data[\"images\"][:]\n",
      "results = hdf5_data[\"results\"][:]\n",
      "\n",
      "hdf5_data.close()"
     ],
     "language": "python",
     "metadata": {},
     "outputs": []
    },
    {
     "cell_type": "code",
     "collapsed": false,
     "input": [
      "fig_images = plt.figure(1)\n",
      "fig_images = neuron_viewer.NeuronViewer(fig_images, images)\n",
      "fig_images.show()\n",
      "\n",
      "fig_results = plt.figure(2)\n",
      "fig_results = neuron_viewer.NeuronViewer(fig_results, results)\n",
      "fig_results.show()\n",
      "\n",
      "plt.show()"
     ],
     "language": "python",
     "metadata": {},
     "outputs": [],
     "prompt_number": 3
    },
    {
     "cell_type": "code",
     "collapsed": false,
     "input": [],
     "language": "python",
     "metadata": {},
     "outputs": []
    }
   ],
   "metadata": {}
  }
 ]
}