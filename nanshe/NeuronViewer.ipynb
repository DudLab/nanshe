{
 "metadata": {
  "name": "",
  "signature": "sha256:9a1b03d4488a6818db546f0b382629067278c472b8bb67c9ecd0043c901768a4"
 },
 "nbformat": 3,
 "nbformat_minor": 0,
 "worksheets": [
  {
   "cells": [
    {
     "cell_type": "code",
     "collapsed": false,
     "input": [
      "import neuron_viewer\n",
      "\n",
      "import matplotlib as mpl\n",
      "import matplotlib.pyplot as plt\n",
      "\n",
      "import os\n",
      "import h5py as h5\n",
      "import numpy as np"
     ],
     "language": "python",
     "metadata": {},
     "outputs": [],
     "prompt_number": 2
    },
    {
     "cell_type": "code",
     "collapsed": false,
     "input": [
      "#hdf5_data_name = os.path.relpath(\"./regression_test_data/regression_data.h5\")\n",
      "\n",
      "#hdf5_data = h5.File(hdf5_data_name, 'r')\n",
      "\n",
      "#images = hdf5_data[\"frames_ADINA_results\"][\"frame_0\"][\"original_data\"][:]\n",
      "#dictionary = hdf5_data[\"frames_ADINA_results\"][\"frame_0\"][\"dictionary\"][:]\n",
      "\n",
      "#hdf5_data.close()"
     ],
     "language": "python",
     "metadata": {},
     "outputs": [],
     "prompt_number": 3
    },
    {
     "cell_type": "code",
     "collapsed": false,
     "input": [
      "hdf5_data_name = os.path.relpath(\"./data_test/data_invitro_susanne.h5\")\n",
      "\n",
      "hdf5_data = h5.File(hdf5_data_name, 'r')\n",
      "\n",
      "images = hdf5_data[\"ADINA_results\"][\"images\"][\"original_data\"][:]\n",
      "dictionary = hdf5_data[\"ADINA_results\"][\"images\"][\"dictionary\"][:]\n",
      "\n",
      "hdf5_data.close()"
     ],
     "language": "python",
     "metadata": {},
     "outputs": [],
     "prompt_number": 4
    },
    {
     "cell_type": "code",
     "collapsed": false,
     "input": [
      "images_max = np.amax(images, axis = 0)\n",
      "\n",
      "dictionary_max = np.amax(dictionary, axis = 0)"
     ],
     "language": "python",
     "metadata": {},
     "outputs": [],
     "prompt_number": 5
    },
    {
     "cell_type": "code",
     "collapsed": false,
     "input": [
      "fig_images = plt.figure(1, FigureClass=neuron_viewer.NeuronViewer)\n",
      "#fig_images = plt.figure(1, FigureClass=neuron_viewer.NeuronViewer, neuron_images = images)\n",
      "fig_images.set_images(images)\n",
      "#fig_images = neuron_viewer.NeuronViewer(fig_images, images)\n",
      "fig_images.show()\n",
      "\n",
      "fig_dictionary = plt.figure(2, FigureClass=neuron_viewer.NeuronViewer)\n",
      "#fig_results = plt.figure(2, FigureClass=neuron_viewer.NeuronViewer, neuron_images = results)\n",
      "fig_dictionary.set_images(dictionary)\n",
      "#fig_results = neuron_viewer.NeuronViewer(fig_results, results)\n",
      "fig_dictionary.show()\n",
      "\n",
      "\n",
      "fig_max_images = plt.figure(3, FigureClass=neuron_viewer.NeuronViewer)\n",
      "fig_max_images.set_images(images_max)\n",
      "fig_max_images.show()\n",
      "\n",
      "fig_max_dictionary = plt.figure(4, FigureClass=neuron_viewer.NeuronViewer)\n",
      "fig_max_dictionary.set_images(dictionary_max)\n",
      "fig_max_dictionary.show()\n",
      "\n",
      "\n",
      "\n",
      "plt.show()"
     ],
     "language": "python",
     "metadata": {},
     "outputs": [],
     "prompt_number": 6
    },
    {
     "cell_type": "code",
     "collapsed": false,
     "input": [],
     "language": "python",
     "metadata": {},
     "outputs": []
    }
   ],
   "metadata": {}
  }
 ]
}