{
 "metadata": {
  "name": ""
 },
 "nbformat": 3,
 "nbformat_minor": 0,
 "worksheets": [
  {
   "cells": [
    {
     "cell_type": "code",
     "collapsed": false,
     "input": [
      "import os\n",
      "\n",
      "import h5py\n",
      "import numpy\n",
      "\n",
      "import matplotlib\n",
      "import matplotlib.pyplot"
     ],
     "language": "python",
     "metadata": {},
     "outputs": [],
     "prompt_number": 1
    },
    {
     "cell_type": "code",
     "collapsed": false,
     "input": [
      "filename = \"./data_test/Image_Registration_4_an229716_2013_12_01_main_slice.h5\"\n",
      "\n",
      "filename = os.path.abspath(filename)"
     ],
     "language": "python",
     "metadata": {},
     "outputs": [],
     "prompt_number": 2
    },
    {
     "cell_type": "code",
     "collapsed": false,
     "input": [
      "internal_groupname = \"/ADINA_results/images/debug\""
     ],
     "language": "python",
     "metadata": {},
     "outputs": [],
     "prompt_number": 3
    },
    {
     "cell_type": "code",
     "collapsed": false,
     "input": [
      "original_images = None\n",
      "new_data_spatially_smoothed = None\n",
      "\n",
      "with h5py.File(filename, \"r\") as file_handle:\n",
      "    internal_group = file_handle[internal_groupname]\n",
      "    \n",
      "    original_images = internal_group.parent[\"original_images\"][:]\n",
      "    new_data_spatially_smoothed = internal_group[\"new_data_spatially_smoothed\"][:]"
     ],
     "language": "python",
     "metadata": {},
     "outputs": [],
     "prompt_number": 4
    },
    {
     "cell_type": "code",
     "collapsed": false,
     "input": [
      "coord_xy = (96, 141)\n",
      "\n",
      "original_images_coord = original_images[:, coord_xy[1], coord_xy[0]]\n",
      "new_data_spatially_smoothed_coord = new_data_spatially_smoothed[:, coord_xy[1], coord_xy[0]]"
     ],
     "language": "python",
     "metadata": {},
     "outputs": [],
     "prompt_number": 5
    },
    {
     "cell_type": "code",
     "collapsed": false,
     "input": [
      "matplotlib.pyplot.plot(*list(numpy.array([numpy.arange(len(original_images_coord)), original_images_coord])), color=\"g\")\n",
      "matplotlib.pyplot.plot(*list(numpy.array([numpy.arange(len(new_data_spatially_smoothed_coord)), new_data_spatially_smoothed_coord])), color=\"b\")\n",
      "\n",
      "matplotlib.pyplot.show()"
     ],
     "language": "python",
     "metadata": {},
     "outputs": [],
     "prompt_number": 6
    },
    {
     "cell_type": "code",
     "collapsed": false,
     "input": [
      "matplotlib.pyplot.subplot(2,1,1)\n",
      "\n",
      "matplotlib.pyplot.plot(*list(numpy.array([numpy.arange(len(original_images_coord)), original_images_coord])))\n",
      "\n",
      "matplotlib.pyplot.subplot(2,1,2)\n",
      "matplotlib.pyplot.plot(*list(numpy.array([numpy.arange(len(new_data_spatially_smoothed_coord)), new_data_spatially_smoothed_coord])))\n",
      "\n",
      "matplotlib.pyplot.show()"
     ],
     "language": "python",
     "metadata": {},
     "outputs": [],
     "prompt_number": 7
    },
    {
     "cell_type": "code",
     "collapsed": false,
     "input": [],
     "language": "python",
     "metadata": {},
     "outputs": []
    }
   ],
   "metadata": {}
  }
 ]
}