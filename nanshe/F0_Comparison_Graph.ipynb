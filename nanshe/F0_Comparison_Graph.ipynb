{
 "metadata": {
  "name": ""
 },
 "nbformat": 3,
 "nbformat_minor": 0,
 "worksheets": [
  {
   "cells": [
    {
     "cell_type": "code",
     "collapsed": false,
     "input": [
      "import os\n",
      "\n",
      "import h5py\n",
      "import numpy\n",
      "\n",
      "import matplotlib\n",
      "import matplotlib.pyplot\n",
      "\n",
      "import mpl_toolkits\n",
      "import mpl_toolkits.mplot3d\n",
      "\n",
      "import expanded_numpy"
     ],
     "language": "python",
     "metadata": {},
     "outputs": [],
     "prompt_number": 1
    },
    {
     "cell_type": "code",
     "collapsed": false,
     "input": [],
     "language": "python",
     "metadata": {},
     "outputs": [],
     "prompt_number": 1
    },
    {
     "cell_type": "code",
     "collapsed": false,
     "input": [
      "filename = \"./data_test/Image_Registration_4_an229716_2013_12_01_main_slice.h5\"\n",
      "\n",
      "filename = os.path.abspath(filename)"
     ],
     "language": "python",
     "metadata": {},
     "outputs": [],
     "prompt_number": 2
    },
    {
     "cell_type": "code",
     "collapsed": false,
     "input": [
      "internal_groupname = \"/ADINA_results/images/debug\""
     ],
     "language": "python",
     "metadata": {},
     "outputs": [],
     "prompt_number": 3
    },
    {
     "cell_type": "code",
     "collapsed": false,
     "input": [],
     "language": "python",
     "metadata": {},
     "outputs": [],
     "prompt_number": 3
    },
    {
     "cell_type": "code",
     "collapsed": false,
     "input": [
      "original_images = None\n",
      "new_data_spatially_smoothed = None\n",
      "\n",
      "with h5py.File(filename, \"r\") as file_handle:\n",
      "    internal_group = file_handle[internal_groupname]\n",
      "    \n",
      "    original_images = internal_group.parent[\"original_images\"][:]\n",
      "    new_data_spatially_smoothed = internal_group[\"new_data_spatially_smoothed\"][:]"
     ],
     "language": "python",
     "metadata": {},
     "outputs": [],
     "prompt_number": 4
    },
    {
     "cell_type": "code",
     "collapsed": false,
     "input": [
      "coord_xy = (96, 141)\n",
      "\n",
      "original_images_coord = original_images[:, coord_xy[1], coord_xy[0]]\n",
      "new_data_spatially_smoothed_coord = new_data_spatially_smoothed[:, coord_xy[1], coord_xy[0]]"
     ],
     "language": "python",
     "metadata": {},
     "outputs": [],
     "prompt_number": 5
    },
    {
     "cell_type": "code",
     "collapsed": false,
     "input": [
      "matplotlib.pyplot.plot(*list(numpy.array([numpy.arange(len(original_images_coord)), original_images_coord])), color=\"g\")\n",
      "matplotlib.pyplot.plot(*list(numpy.array([numpy.arange(len(new_data_spatially_smoothed_coord)), new_data_spatially_smoothed_coord])), color=\"b\")\n",
      "\n",
      "matplotlib.pyplot.show()"
     ],
     "language": "python",
     "metadata": {},
     "outputs": [],
     "prompt_number": 6
    },
    {
     "cell_type": "code",
     "collapsed": false,
     "input": [
      "matplotlib.pyplot.subplot(2,1,1)\n",
      "\n",
      "matplotlib.pyplot.plot(*list(numpy.array([numpy.arange(len(original_images_coord)), original_images_coord])))\n",
      "\n",
      "matplotlib.pyplot.subplot(2,1,2)\n",
      "matplotlib.pyplot.plot(*list(numpy.array([numpy.arange(len(new_data_spatially_smoothed_coord)), new_data_spatially_smoothed_coord])))\n",
      "\n",
      "matplotlib.pyplot.show()"
     ],
     "language": "python",
     "metadata": {},
     "outputs": [],
     "prompt_number": 7
    },
    {
     "cell_type": "code",
     "collapsed": false,
     "input": [],
     "language": "python",
     "metadata": {},
     "outputs": [],
     "prompt_number": 7
    },
    {
     "cell_type": "code",
     "collapsed": false,
     "input": [
      "fixed_coord_dict = {\"y\" : 141}\n",
      "\n",
      "\n",
      "axis_key = fixed_coord_dict.keys()[0]\n",
      "for each_axis_key in fixed_coord_dict.keys():\n",
      "    if isinstance(axis_key, str):\n",
      "        if each_axis_key.lower() != each_axis_key:\n",
      "            old_each_axis_key = each_axis_key\n",
      "            each_axis_key = each_axis_key.lower()\n",
      "            \n",
      "            fixed_coord_dict[each_axis_key] = fixed_coord_dict[old_each_axis_key]\n",
      "            del fixed_coord_dict[old_each_axis_key]\n",
      "    \n",
      "        old_each_axis_key = each_axis_key\n",
      "        if each_axis_key == \"x\":\n",
      "            each_axis_key = -1\n",
      "        elif each_axis_key == \"y\":\n",
      "            each_axis_key = -2\n",
      "        elif each_axis_key == \"z\":\n",
      "            each_axis_key = -3\n",
      "        elif each_axis_key == \"t\":\n",
      "            each_axis_key = 0\n",
      "    \n",
      "        fixed_coord_dict[each_axis_key] = fixed_coord_dict[old_each_axis_key]\n",
      "        del fixed_coord_dict[old_each_axis_key]\n",
      "    \n",
      "original_images_slab = original_images\n",
      "for each_dim, each_index in fixed_coord_dict.items():\n",
      "    original_images_slab = expanded_numpy.index_axis_at_pos(original_images_slab, each_dim, each_index)\n",
      "\n",
      "new_data_spatially_smoothed_slab = new_data_spatially_smoothed\n",
      "for each_dim, each_index in fixed_coord_dict.items():\n",
      "    new_data_spatially_smoothed_slab = expanded_numpy.index_axis_at_pos(new_data_spatially_smoothed_slab, each_dim, each_index)\n",
      "\n",
      "original_images_coords = numpy.vstack((numpy.indices(original_images_slab.shape), expanded_numpy.add_singleton_axis_beginning(original_images_slab)))\n",
      "new_data_spatially_smoothed_coords = numpy.vstack((numpy.indices(new_data_spatially_smoothed_slab.shape), expanded_numpy.add_singleton_axis_beginning(new_data_spatially_smoothed_slab)))"
     ],
     "language": "python",
     "metadata": {},
     "outputs": [],
     "prompt_number": 8
    },
    {
     "cell_type": "code",
     "collapsed": false,
     "input": [
      "fig = matplotlib.pyplot.figure()\n",
      "\n",
      "ax1 = fig.add_subplot(211, projection='3d')\n",
      "ax2 = fig.add_subplot(212, projection='3d')\n",
      "\n",
      "ax1.plot_surface(original_images_coords[0], original_images_coords[1], original_images_coords[2], rstride=1, cstride=1, cmap=matplotlib.cm.RdBu, linewidth=0, antialiased=False)\n",
      "ax2.plot_surface(new_data_spatially_smoothed_coords[0], new_data_spatially_smoothed_coords[1], new_data_spatially_smoothed_coords[2], rstride=1, cstride=1, cmap=matplotlib.cm.RdBu, linewidth=0, antialiased=False)\n",
      "\n",
      "matplotlib.pyplot.show()"
     ],
     "language": "python",
     "metadata": {},
     "outputs": [],
     "prompt_number": 9
    },
    {
     "cell_type": "code",
     "collapsed": false,
     "input": [],
     "language": "python",
     "metadata": {},
     "outputs": []
    }
   ],
   "metadata": {}
  }
 ]
}