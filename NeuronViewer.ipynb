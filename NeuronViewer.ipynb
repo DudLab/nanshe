{
 "metadata": {
  "name": "",
  "signature": "sha256:9b0522173e65407f4730254ccc89283b29221081d5030449cc9903e4d81a1a9b"
 },
 "nbformat": 3,
 "nbformat_minor": 0,
 "worksheets": [
  {
   "cells": [
    {
     "cell_type": "code",
     "collapsed": false,
     "input": [
      "import neuron_viewer\n",
      "import matplotlib.pyplot as plt\n",
      "\n",
      "import os\n",
      "import h5py as h5"
     ],
     "language": "python",
     "metadata": {},
     "outputs": [],
     "prompt_number": 6
    },
    {
     "cell_type": "code",
     "collapsed": false,
     "input": [
      "hdf5_data_name = os.path.relpath(\"./data_test/data_invitro_susanne.h5\")\n",
      "\n",
      "hdf5_data = h5.File(hdf5_data_name, 'r')\n",
      "\n",
      "images = hdf5_data[\"images\"][:]\n",
      "results = hdf5_data[\"results\"][:]\n",
      "\n",
      "hdf5_data.close()"
     ],
     "language": "python",
     "metadata": {},
     "outputs": [],
     "prompt_number": 7
    },
    {
     "cell_type": "code",
     "collapsed": false,
     "input": [
      "fig_images = plt.figure(1)\n",
      "fig_images = neuron_viewer.NeuronViewer(fig_images, images)\n",
      "fig_images.show()\n",
      "\n",
      "fig_results = plt.figure(2)\n",
      "fig_results = neuron_viewer.NeuronViewer(fig_results, results)\n",
      "fig_results.show()\n",
      "\n",
      "plt.show()"
     ],
     "language": "python",
     "metadata": {},
     "outputs": [],
     "prompt_number": 8
    },
    {
     "cell_type": "code",
     "collapsed": false,
     "input": [],
     "language": "python",
     "metadata": {},
     "outputs": []
    }
   ],
   "metadata": {}
  }
 ]
}