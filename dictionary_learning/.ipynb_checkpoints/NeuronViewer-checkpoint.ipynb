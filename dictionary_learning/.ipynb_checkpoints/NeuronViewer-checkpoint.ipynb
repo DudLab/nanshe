{
 "metadata": {
  "name": "",
  "signature": "sha256:7cf8f0a4c02df9813e9fc08a29f1de7f1e57594341d6c2e09c50bb1b45d2e5d9"
 },
 "nbformat": 3,
 "nbformat_minor": 0,
 "worksheets": [
  {
   "cells": [
    {
     "cell_type": "code",
     "collapsed": false,
     "input": [
      "import neuron_viewer\n",
      "\n",
      "import matplotlib as mpl\n",
      "import matplotlib.pyplot as plt\n",
      "\n",
      "import os\n",
      "import h5py as h5\n",
      "import numpy as np"
     ],
     "language": "python",
     "metadata": {},
     "outputs": [],
     "prompt_number": 12
    },
    {
     "cell_type": "code",
     "collapsed": false,
     "input": [
      "hdf5_data_name = os.path.relpath(\"./data_test/data_invitro_susanne.h5\")\n",
      "\n",
      "hdf5_data = h5.File(hdf5_data_name, 'r')\n",
      "\n",
      "images = hdf5_data[\"ADINA_results\"][\"images\"][\"original_data\"][:]\n",
      "dictionary = hdf5_data[\"ADINA_results\"][\"images\"][\"dictionary\"][:]\n",
      "\n",
      "hdf5_data.close()"
     ],
     "language": "python",
     "metadata": {},
     "outputs": [],
     "prompt_number": 7
    },
    {
     "cell_type": "code",
     "collapsed": false,
     "input": [
      "fig_images = plt.figure(1, FigureClass=neuron_viewer.NeuronViewer)\n",
      "#fig_images = plt.figure(1, FigureClass=neuron_viewer.NeuronViewer, neuron_images = images)\n",
      "fig_images.set_images(images)\n",
      "#fig_images = neuron_viewer.NeuronViewer(fig_images, images)\n",
      "fig_images.show()\n",
      "\n",
      "fig_dictionary = plt.figure(2, FigureClass=neuron_viewer.NeuronViewer)\n",
      "#fig_results = plt.figure(2, FigureClass=neuron_viewer.NeuronViewer, neuron_images = results)\n",
      "fig_dictionary.set_images(dictionary)\n",
      "#fig_results = neuron_viewer.NeuronViewer(fig_results, results)\n",
      "fig_dictionary.show()\n",
      "\n",
      "\n",
      "\n",
      "\n",
      "plt.show()"
     ],
     "language": "python",
     "metadata": {},
     "outputs": [],
     "prompt_number": 8
    },
    {
     "cell_type": "code",
     "collapsed": false,
     "input": [
      "dictionary_max = np.amax(results, axis = 0)"
     ],
     "language": "python",
     "metadata": {},
     "outputs": [],
     "prompt_number": 10
    },
    {
     "cell_type": "code",
     "collapsed": false,
     "input": [
      "fig_max_dictionary = plt.figure(3)\n",
      "\n",
      "fig_max_dictionary_ax = fig_max_dictionary.add_axes([0.25, 0.25, 0.7, 0.7])\n",
      "\n",
      "fig_max_dictionary_ax_view = fig_max_dictionary_ax.imshow(dictionary_max, cmap = mpl.cm.RdBu, vmin = dictionary_max.min(), vmax = dictionary_max.max())\n",
      "\n",
      "fig_max_dictionary.colorbar(fig_max_dictionary_ax_view, ax = fig_max_dictionary_ax)\n",
      "\n",
      "plt.show()"
     ],
     "language": "python",
     "metadata": {},
     "outputs": [],
     "prompt_number": 15
    },
    {
     "cell_type": "code",
     "collapsed": false,
     "input": [],
     "language": "python",
     "metadata": {},
     "outputs": []
    }
   ],
   "metadata": {}
  }
 ]
}